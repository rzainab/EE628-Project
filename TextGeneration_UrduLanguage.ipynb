{
 "cells": [
  {
   "cell_type": "code",
   "execution_count": 4,
   "metadata": {
    "colab": {
     "base_uri": "https://localhost:8080/",
     "height": 35
    },
    "colab_type": "code",
    "id": "8fvN9HiZ6YiZ",
    "outputId": "4559f4e3-66ca-4287-c6c4-69a7c9a1d6ca"
   },
   "outputs": [],
   "source": [
    "from __future__ import print_function\n",
    "from keras.callbacks import LambdaCallback\n",
    "from keras.models import Sequential\n",
    "from keras.layers import Dense\n",
    "from keras.layers import LSTM\n",
    "from keras.optimizers import RMSprop\n",
    "from keras.utils.data_utils import get_file\n",
    "import numpy as np\n",
    "import random\n",
    "import sys\n",
    "import io"
   ]
  },
  {
   "cell_type": "code",
   "execution_count": 5,
   "metadata": {},
   "outputs": [],
   "source": [
    "import untangle\n",
    "import xml.etree.ElementTree as ET\n",
    "\n",
    "obj = untangle.parse('0001.xml')\n",
    "tree = ET.parse('0001.xml')\n",
    "root = tree.getroot()\n",
    "text = ''\n",
    "for section in root.iter('p'):\n",
    "    text += section.text"
   ]
  },
  {
   "cell_type": "code",
   "execution_count": 6,
   "metadata": {
    "colab": {
     "base_uri": "https://localhost:8080/",
     "height": 69
    },
    "colab_type": "code",
    "id": "Kp5qB6y9Y5Du",
    "outputId": "b7066404-93d7-4f85-c042-f476998d4c86"
   },
   "outputs": [
    {
     "name": "stdout",
     "output_type": "stream",
     "text": [
      "corpus length: 7660\n"
     ]
    }
   ],
   "source": [
    "#text=(open(\"sonnets.txt\").read())\n",
    "#text=text.lower()\n",
    "print('corpus length:', len(text))"
   ]
  },
  {
   "cell_type": "code",
   "execution_count": 7,
   "metadata": {
    "colab": {
     "base_uri": "https://localhost:8080/",
     "height": 52
    },
    "colab_type": "code",
    "id": "hmAHRetpY9F-",
    "outputId": "bcd290a2-c406-4f54-a70f-a3f127f97e64"
   },
   "outputs": [
    {
     "name": "stdout",
     "output_type": "stream",
     "text": [
      "total chars: 59\n",
      "nb sequences: 7620\n"
     ]
    }
   ],
   "source": [
    "chars = sorted(list(set(text)))\n",
    "print('total chars:', len(chars))\n",
    "char_indices = dict((c, i) for i, c in enumerate(chars))\n",
    "indices_char = dict((i, c) for i, c in enumerate(chars))\n",
    "\n",
    "# cut the text in semi-redundant sequences of maxlen characters\n",
    "maxlen = 40\n",
    "step = 1\n",
    "sentences = []\n",
    "next_chars = []\n",
    "for i in range(0, len(text) - maxlen, step):\n",
    "    sentences.append(text[i: i + maxlen])\n",
    "    next_chars.append(text[i + maxlen])\n",
    "print('nb sequences:', len(sentences))\n"
   ]
  },
  {
   "cell_type": "code",
   "execution_count": 8,
   "metadata": {
    "colab": {
     "base_uri": "https://localhost:8080/",
     "height": 35
    },
    "colab_type": "code",
    "id": "nvVejC8v6Yja",
    "outputId": "2b3ce908-c152-4ac7-914f-275139cd22b6"
   },
   "outputs": [
    {
     "name": "stdout",
     "output_type": "stream",
     "text": [
      "Vectorization...\n"
     ]
    }
   ],
   "source": [
    "print('Vectorization...')\n",
    "x = np.zeros((len(sentences), maxlen, len(chars)), dtype=np.bool)\n",
    "y = np.zeros((len(sentences), len(chars)), dtype=np.bool)\n",
    "for i, sentence in enumerate(sentences):\n",
    "    for t, char in enumerate(sentence):\n",
    "        x[i, t, char_indices[char]] = 1\n",
    "    y[i, char_indices[next_chars[i]]] = 1"
   ]
  },
  {
   "cell_type": "code",
   "execution_count": 18,
   "metadata": {
    "colab": {
     "base_uri": "https://localhost:8080/",
     "height": 35
    },
    "colab_type": "code",
    "id": "iyndezhUZR8Q",
    "outputId": "db1a7a9a-4c34-4bad-96fc-92c4bf65abe8"
   },
   "outputs": [
    {
     "name": "stdout",
     "output_type": "stream",
     "text": [
      "Build model...\n",
      "WARNING:tensorflow:From c:\\users\\rzain\\appdata\\local\\programs\\python\\python37\\lib\\site-packages\\tensorflow\\python\\framework\\op_def_library.py:263: colocate_with (from tensorflow.python.framework.ops) is deprecated and will be removed in a future version.\n",
      "Instructions for updating:\n",
      "Colocations handled automatically by placer.\n"
     ]
    }
   ],
   "source": [
    "# build the model: a single LSTM\n",
    "print('Build model...')\n",
    "model = Sequential()\n",
    "model.add(LSTM(128, input_shape=(maxlen, len(chars))))\n",
    "model.add(Dense(len(chars), activation='softmax'))\n",
    "\n",
    "optimizer = RMSprop(lr=0.01)\n",
    "model.compile(loss='categorical_crossentropy', optimizer=optimizer)"
   ]
  },
  {
   "cell_type": "code",
   "execution_count": 19,
   "metadata": {
    "colab": {},
    "colab_type": "code",
    "id": "8Kj2b8pBZsvC"
   },
   "outputs": [],
   "source": [
    "def sample(preds, temperature=1.0):\n",
    "    # helper function to sample an index from a probability array\n",
    "    preds = np.asarray(preds).astype('float64')\n",
    "    preds = np.log(preds) / temperature\n",
    "    exp_preds = np.exp(preds)\n",
    "    preds = exp_preds / np.sum(exp_preds)\n",
    "    probas = np.random.multinomial(1, preds, 1)\n",
    "    return np.argmax(probas)\n"
   ]
  },
  {
   "cell_type": "code",
   "execution_count": null,
   "metadata": {},
   "outputs": [
    {
     "name": "stdout",
     "output_type": "stream",
     "text": [
      "WARNING:tensorflow:From c:\\users\\rzain\\appdata\\local\\programs\\python\\python37\\lib\\site-packages\\tensorflow\\python\\ops\\math_ops.py:3066: to_int32 (from tensorflow.python.ops.math_ops) is deprecated and will be removed in a future version.\n",
      "Instructions for updating:\n",
      "Use tf.cast instead.\n",
      "Epoch 1/25\n",
      "7620/7620 [==============================] - 4s 535us/step - loss: 3.0045\n",
      "\n",
      "----- Generating text after Epoch: 0\n",
      "----- Generating with seed: \" ایک طلاق کا حکم لگاکر رجوع کا حق باقی ر\"\n",
      " ایک طلاق کا حکم لگاکر رجوع کا حق باقی رن ان کے کے کے کے کے کے کے کے کے کے کے کے کے کے کے کے کے کے کے کے کے کے کے کے کے کے کے کے کے کے کے کے کے کے کے کے کے کے کے کے کے کے کے کے کے کے کے کے کے کے کے کے کے کے کے کے کے کے کے کے کے کے کے کے کے کے کے کے کے کے کے کے کے کے کے کے کے کے کے کے کے کے کے کے کے کے کے کے کے کے کے کے کے انے کے کے کے کے کے کے کے کے کونے کے کے کے کے کے کے کے کے کے کے کے کے کے کے کے کے کے کے کے کے کے کے کے کے کے کے کے کے\n",
      "Epoch 2/25\n",
      "7620/7620 [==============================] - 3s 447us/step - loss: 2.4920\n",
      "\n",
      "----- Generating text after Epoch: 1\n",
      "----- Generating with seed: \" خاص واقعے کے حوالے سے اپنا قانونی فیصلہ\"\n",
      " خاص واقعے کے حوالے سے اپنا قانونی فیصلہ کر ہے۔ ہوں کی ہیں کہ کی ہیں کر ہے۔ ہونہ ہے۔ کر ہے کہ اور کر میں کی کر ہوں کی ہے۔ کرا ہے۔ کر اسر کر ہے کہ کر ہے کہ نانی کر اسر کر کر ہے۔ کر ہے۔ انکر ہے۔ ہیں کی ہیں کر ہے۔ اسر ہے ہے۔ انانہ کر انانہ کر ہیں کی انانہ کر ہیں کر جانے ہونہ کر ہے کہ پرانہ کر انانہ کر ہوں کر کی ہوتے کی ہوں کر ہے۔ ہیں۔ ہوں کر ہے۔ کر ہیں کیت کے کرا ہے۔ ہوں کی انانہ کر ہے۔ اران نانہ کر ہے کہ کی ہیں کر ہے۔ کر ہونا ہے۔ ہے۔ کر گ\n",
      "Epoch 3/25\n",
      "7620/7620 [==============================] - 6s 818us/step - loss: 2.2366\n",
      "\n",
      "----- Generating text after Epoch: 2\n",
      "----- Generating with seed: \" میں فقہی اختلافات کا حل\"، مولاناامین اح\"\n",
      " میں فقہی اختلافات کا حل\"، مولاناامین احر اس اس کر جائے ہے اس کا ہے مار ہے اس اسر اس اس ار ان ار اس سی علاف کی ہوتا ہے اس اس اس اس است اس اس کی اس میں اس اس کی ہے اس اس اسر اسر اسر اسر اس اس اس کی ہیں اس اس ار اس اس کی اس اس اس اس کا کا ہے کا ہے اس اس کی اس اس کا اس کی ہیں اس اس اس اس کی اس کی اس کا اس اس اس اس کی اس اس اسر اسر دین کی اس اسر اس اس کی اس اس کا اس اس ارن سے اسر اس کا اس اس اس اسر اسر اس اسر اس ار انر اس کی اس اس کی اس ار \n",
      "Epoch 4/25\n",
      "7620/7620 [==============================] - 6s 828us/step - loss: 2.0333\n",
      "\n",
      "----- Generating text after Epoch: 3\n",
      "----- Generating with seed: \"ا درحقیقت، عدلیہ اور حکومت کا کام ہے کسی\"\n",
      "ا درحقیقت، عدلیہ اور حکومت کا کام ہے کسی کا کی کا کے مجالے کا بجال کا کائے کے اس کا کا کے اسے محکل کا کا کے کا کا کے کہ دین کے مجالے کا بدالی کے بدال کے انکی کر دیصل کے بدالم کے بعلما کے مجالے میں بلام کی اسے کہ دیا کے مجالے کا بدالی کے بعلما کے کا کا کا کے کہ دین کے کا کا کا کا کہ جائے کا بدال کا کہ کے کا کا کہ جائے کے بعدلم کو انکی کے کا کا کی کہ کے کا کا کہ جائے کا اسلان کی کی کو کا کے اس کے مجالو کے بعلما کے بعلما کے بعلما کے اسے کا\n",
      "Epoch 5/25\n",
      "7620/7620 [==============================] - 6s 778us/step - loss: 1.8709\n",
      "\n",
      "----- Generating text after Epoch: 4\n",
      "----- Generating with seed: \"ی صفحات میں بے خوفِ لومۃ و لائم اس پر نق\"\n",
      "ی صفحات میں بے خوفِ لومۃ و لائم اس پر نقارو کا کہ کہ کہ کہ کہ میں اپنا کا کہ کہ اسے میں اسے اسے مالے میں اسے میں کا جائے ہو اور اسے میں اپنا کا کہ کہ کہ کہ کہ کہ کہ کہ کہ کہ کہ کہ کہ کہ کہ کہ کہ جائے گا کہ کہ کہ کہ اس کا کا کہ کہ کہ کہ کہ اسے کا اور اسے مارے میں اسے اسے میں اسے میں نہیں کہ کہ کہ کہ کہ کہ کہ کہ کہ کہ کہ کہ جائے کا کہ کہ کہ کہ کہ کہ کہ کہ کہ کہ اسے میں اسے مارے کا کا کہ کہ کہ کہ اسے میں کہ اسے مارے میں اپنا کا کہ کہ کہ کہ\n",
      "Epoch 6/25\n",
      "7620/7620 [==============================] - 6s 737us/step - loss: 1.7093\n",
      "\n",
      "----- Generating text after Epoch: 5\n",
      "----- Generating with seed: \"دوسرا مألہ یہ پیدا ہوتا ہے کہ قانون کی ح\"\n",
      "دوسرا مألہ یہ پیدا ہوتا ہے کہ قانون کی حکومت کی تو یہ میں است میں است کی تو یہ میں اسے میں ہوتا ہے۔ اس کی شری ہے کہ اس کی کرنے کی علما کی حکومت کی رائے میں است کی کرتے ہیں۔ اس کا نتیجہ کا فتویٰ دینے کی است کی طرف کر فتویٰ دیتے ہیں۔ اس کا انت کی طرف کر جائے گا کہ است کی تو یہ قانون کی روئی ہی گرا ہے۔ اس کی جائے ہی کو فتویٰ دیتے ہیں۔ اس کی است کی کی کر جائے گا کہ جائے گا کہ جائے گا کہ جائے گا کہ اس کا فتویٰ یہ فتویٰ دیتے ہیں۔ اس کی طرف ور\n",
      "Epoch 7/25\n",
      "7620/7620 [==============================] - 5s 715us/step - loss: 1.5709\n",
      "\n",
      "----- Generating text after Epoch: 6\n",
      "----- Generating with seed: \"تے ہوں تو وہ اس صورتِ حال میں شریعت کی ر\"\n",
      "تے ہوں تو وہ اس صورتِ حال میں شریعت کی روئی کا ادا کا اسے اس کا اس اس کا اسے اس کا اسے اس کا اس اس کا اسے اس کا اسے اس کا اسے اس کا اس اس کا اسے اس کا اس اس کا اسے اس کا اس اس کا انا کا ادا کی اس اس کا اسے اس کا اسے اس کا اسے اس کا اس اس کا اس اس کا اس کا اس اس کا اس اس کا اسے اس کا اسے اس کا اسے مسئلہ یہ کا اور اس کا اس اس کا اسے اس کا اس کا اس اس کا اس اس کا اس اس کا اسے اس کا اس اس کا اسے اس کا اسے اس کا ادی کو اسا کو اس اس کا اس کا \n",
      "Epoch 8/25\n",
      "7620/7620 [==============================] - 5s 694us/step - loss: 1.4340\n",
      "\n",
      "----- Generating text after Epoch: 7\n",
      "----- Generating with seed: \"کہ مختصر طور پر ان مسائل کا جائزہ لے لیا\"\n",
      "کہ مختصر طور پر ان مسائل کا جائزہ لے لیا ہے کہ اس کا کا جائے کا ادارید کر ہوتا ہے۔ اس کا اور اس کا کا ہوتا ہے۔ اس کا متولہ یہ ہے کہ کوئی اور عدالت کے بارے ہوتا ہے۔ اس کا کا جائے تا ادر ہوتا ہے کہ اور ان کر ہوتا ہے۔ اس کا مألے یا ہے کہ کہ جہاد کرتے ہے۔ اس کا اور انالیہ کے اصلاق کرتے ہوتا ہے۔ اس کا اور علما کی اور اور اور اور فتویٰ کا ادارتوم کرنے کے بادر ہوتا ہے کہ کوئی اس کا متعلہ درتی کا مطلب یہ ہے کہ کہ دیش کر دیت کے کا اداری کرتے ہیں\n",
      "Epoch 9/25\n",
      "7620/7620 [==============================] - 6s 751us/step - loss: 1.3212\n",
      "\n",
      "----- Generating text after Epoch: 8\n",
      "----- Generating with seed: \"ل ہو چکا ہے۔ جب کوئی عالمِ دین مثال کے ط\"\n",
      "ل ہو چکا ہے۔ جب کوئی عالمِ دین مثال کے طلاق کر داری ہے۔ اس کا نکائے کا معلما کے بعد کی تین طلاق کر حقوق و اقتدار کر جاتے ہوں اور علما کی اصورت کی نہیں ہوتے۔ ان کی کا جائے ہو گیا ہے کہ قانون کی رو سے علما کے میں قانون وقع کو کا رائے ہو گیا ہے کہ قانون کی روئی اور علما کی عدالت کے بعد میں اپنا کا ادا ہوتے ہوئے اور علما کی عدالتوں کی طرف قانون کی روش کر دیتے ہوں اور علما کی استامی کی اصل کی تو یہ ہو تو وقر قرور کرتے ہوں اور علما کی اصل میں\n",
      "Epoch 10/25\n",
      "7620/7620 [==============================] - 5s 699us/step - loss: 1.1972\n",
      "\n",
      "----- Generating text after Epoch: 9\n",
      "----- Generating with seed: \" قانون سازی کی طرف متوجہ نہیں ہوتے۔ کام \"\n",
      " قانون سازی کی طرف متوجہ نہیں ہوتے۔ کام کا مطلب یہ ہے کہ قانون سے صادر ہوتا ہے کہ مجروح کر جاتی کے رجھا جائے گا کہ فلاں شخص کا انفیصلہ کا نکرت کے بجائے گا کہ دیتی کے مجروہ کر جا کہ دیتی کے مجروہ کر جہ کہ رہا کے ان طرہ کا ادار وہ دیر کی کا ندیں کی رجھا کے بائے گا فلاں آدمی کا ادا کرنے کے بعد ایک عدالت نہیں ہوتا۔ ان کا کائے میں اپنا کا ندیں کرنے کے مجروع کر جہ کہ قرار دیتے ہیں۔ ان کا نفیا ہے ان طرح کا کا جائے گا کہ داری کر دیت کی رائے پر \n",
      "Epoch 11/25\n",
      "7620/7620 [==============================] - 5s 719us/step - loss: 1.0888\n",
      "\n",
      "----- Generating text after Epoch: 10\n",
      "----- Generating with seed: \" بلکہ تحقیق و اجتہاد ہے۔ گویا انھیں قرآن\"\n",
      " بلکہ تحقیق و اجتہاد ہے۔ گویا انھیں قرآن و سنت کی کوشش کی اور ملک میں اپنی فیصلہ سنائی کے بیں اور علما اس کا ملفا کر ہو گیا ہے۔ یہ نہیں کہا جائے گا کہ اس کے بائل الفاظ کی اصلان کر اسلام کو مجاب کو ملمان اپنی فیصلہ سنائی کے بارے میں اپنی فیصلہ سنائی کے بارے میں اپنی فیصلہ سے اس املے میں بمار کر جہاد کر مألہ یہ ہوتا ہے۔ اس کا نکما کے بارے میں اپنی فیصلہ سے امکان کرنے کے بارے میں اپنی فیصلہ سے امکان کرنے کے بارے میں اپنی فیصلہ جادی کرنے کی\n",
      "Epoch 12/25\n",
      "7620/7620 [==============================] - 5s 694us/step - loss: 0.9916\n",
      "\n",
      "----- Generating text after Epoch: 11\n",
      "----- Generating with seed: \" داری ہے، یا کسی خاص قوم کے خلاف جہاد فر\"\n",
      " داری ہے، یا کسی خاص قوم کے خلاف جہاد فرار دیتے ہوئے اس کے خلاف جہاد کرتے ہیں۔ اس موقع ہو گیا ہے کہ اس لفظ کا ادا کرنے کی کوشش ہے کہ اس لفظ کا بداریہ نہیں ہوتا۔ اس کے خلاف بہد کی توہی میں قانونی فیصلہ صادر کرتا ہو گیا ہے یا نہیں ہوتے۔ اس میں قانونی فتویٰ دیتے ہوئے اس کے خلاف جہاد کرتے ہیں۔ جہاد و قانونی فیصلہ صادر کرتا ہے۔ اس کی خاص دالی اور عدالتانے میں قانونی فیصلہ صادر کرتے ہوئے اس کے مجاز فرد کی تین طلاقیں اور عدالتاں کی توہی میں بے\n",
      "Epoch 13/25\n",
      "7620/7620 [==============================] - 6s 759us/step - loss: 0.9070 0s - loss: \n",
      "\n",
      "----- Generating text after Epoch: 12\n",
      "----- Generating with seed: \" کی رو سے علما کی اصل ذمہ داری دعوت و تب\"\n",
      " کی رو سے علما کی اصل ذمہ داری دعوت و تبہی ہے اور فتویٰ یا قانون سازی کے بارے میں اپنی رائے پر موقع پر حکومت کی تو ہی ہے کے باطل ہو گیں میں قانون سازی اور حیویت سے محروم ہوتا ہے کہ حکومتی فیصلے ہیں اور فتویٰ دینے لگا اور مسالہ یہ پیدا ہوتا ہے کہ حکومتی رہا ہے۔ اس طرح وا کا حدی ہیں اور فتویٰ یا قانون سازی اور حیویت محض ہ تاور ہے۔ یہ نہیں کہا جائے گا فلاں آدمی دائرۂ اسلام سے خارج قانون اور دائرۂ اسلام لیں اور نہ یہ ہو اور فتویٰ دینے لگے ا\n",
      "Epoch 14/25\n",
      "7620/7620 [==============================] - 6s 805us/step - loss: 0.8139\n",
      "\n",
      "----- Generating text after Epoch: 13\n",
      "----- Generating with seed: \"ے قانونی حقوق سے محروم تو نہیں ہو گیا؟ ی\"\n",
      "ے قانونی حقوق سے محروم تو نہیں ہو گیا؟ یہ اور اس طرح عدالہ پابندی کو بیٹ اندیا ہے کہ اس کی حیثیت کے اندار و تین طلاقیں واقع ہو گئی ہے اور جن امور اس موقع پر جب کوئی اور انذیم کین اسے الکار کے اندی کرتا ہے۔ اس کی حکومت کی تو یہ ہے۔ ان کی کی بی ہوتی ہے۔ ان کی کی شرتِ دین کا استامی کی است کرنے کے بارے میں اپنی فیصلوں کو است اسے حکومت کی تو یہ کیا جائے گا۔اس کا مطلب یہ ہوتا ہے۔ ان کی کا ا کریں تو اس کی حیثیت محض ایک رائے کے بارے میں اپنی فی\n",
      "Epoch 15/25\n",
      "7620/7620 [==============================] - 6s 792us/step - loss: 0.7419\n",
      "\n",
      "----- Generating text after Epoch: 14\n",
      "----- Generating with seed: \"سب لوگوں کی رائے بن جاتی۔ حضرت عثمان کی \"\n",
      "سب لوگوں کی رائے بن جاتی۔ حضرت عثمان کی حیثیت محض ہے کہ اس کے خلاف وہ یہ کے اناری کی روشنی کے بارے میں اپنا حقوم سے خارج قرار دیا ہے۔ ان کا کام جہاد کے اندار پر ان کا اعلان کی روشنی کے بارے میں اپنا اسلام سے خارج ہو گیا ہے، بلکہ یہ کہا جائے گا کہ فلاں شخص کا الفہی ہینے ان کے بغیر نہ یہ کہا جائے گا کہ فلاں شخص کا بار ہے کہ ان کے مشورہ کر جہاد یا فلاں شخص کا بار ہے کہ ان کے منہ قرآرت سے صورت منہلہ پر ان کا کام جائے کا بدار ملتع ہے کہ اس م\n",
      "Epoch 16/25\n",
      "7620/7620 [==============================] - 6s 799us/step - loss: 0.6747\n",
      "\n",
      "----- Generating text after Epoch: 15\n",
      "----- Generating with seed: \"ا جائے گا، بلکہ طالبِ علمانہ لب و لہجے م\"\n",
      "ا جائے گا، بلکہ طالبِ علمانہ لب و لہجے میں آجاتے ہیں۔ اس سے محروم ہوتا ہے۔ اس کی حکومت کا نقیں نہیں کہا جائے گا کہ اس لے کہ رہتے ہیں۔ اس سے محروم ہوتے ہیں۔ اس سے مجاز فرد سے صادر ہونے والے قانون سازی اور علما کی فیصلے کا بعت میں اپنا نقطۂ نظر پر آتے ہیں۔ اس سے پہلے اس کی حیثیت سے متعلق ہوتے ہیں۔ اس سے مجاز فرد کی تعلیم و تحقیق کر رجوع کا بدی رائے پر موقع ہے کہ کوئی عالمِ دین اپنے استعمال ہوتا ہے کہ موقعِ عالمِ دین اپنے استعمال ہوتا ہے ک\n",
      "Epoch 17/25\n",
      "7620/7620 [==============================] - 6s 800us/step - loss: 0.6143\n",
      "\n",
      "----- Generating text after Epoch: 16\n",
      "----- Generating with seed: \"تھے اور نہ فتویٰ دیتے تھے۔ بعد میں خلیفہ\"\n",
      "تھے اور نہ فتویٰ دیتے تھے۔ بعد میں خلیفہ کے حکم کے بغیر نہ یہ تحقیق کر فتویٰ جاری قرار دیتے ہیں اور عومِ پر اند مستی کے بہت سے دوسرے معاملے میں اپنا فیصلہ کے ایک ہے منقوق ارت اسے متور متعلق ہوتے ہیں اور عومِ مجتوم توجی میں آجاتا ہے جہ اور فتویٰ ارت میں علما کی ایک ان لاقی کے بارے میں بے طلب یا فیصلہ کرتے ہوئے علما کے فتووں اور علما کی فتویٰ بازی قرور دی گئی فیصلے کے بارے میں اپنا فیصلہ کے اختلافی صورت میں عدلیہ کے بعد کر اور فتویٰ ارت م\n",
      "Epoch 18/25\n",
      "7620/7620 [==============================] - 6s 809us/step - loss: 0.5659\n",
      "\n",
      "----- Generating text after Epoch: 17\n",
      "----- Generating with seed: \"ں فقہی اختلافات کا حل\"، مولاناامین احسن \"\n",
      "ں فقہی اختلافات کا حل\"، مولاناامین احسن اصلاح کا فلاں نقطۂ نظر اسلام کے خارج قرار دیتے ہوں تو وہ اس صورتِ حال میں رہنے ہوتے۔موجودہ اس کا نتیجہ یہ نکلا ہے کا اعلیم ہوتا ہے کہ قانون کی و بنی تحقیق کریں، بلکہ اس کی استعمال ہوتا ہے کہ قانون کی و برتِ عمل میں اپنی رائے اور نقطۂ نظر کی ایک توقی میں اور عالمے کا اققان کا ر نہیں ہوتے۔ کسی میاں فتویٰ یا قانون سازی کے بارے میں اپنا رائے اور نقطۂ نظر کی ایک تنظیم \"اسلامک کی اگارتی کے اصدار کرتا او\n",
      "Epoch 19/25\n",
      "6528/7620 [========================>.....] - ETA: 0s - loss: 0.5126"
     ]
    }
   ],
   "source": [
    "def on_epoch_end(epoch, _):\n",
    "    # Function invoked at end of each epoch. Prints generated text.\n",
    "    print()\n",
    "    print('----- Generating text after Epoch: %d' % epoch)\n",
    "\n",
    "    start_index = random.randint(0, len(text) - maxlen - 1)\n",
    "    generated = ''\n",
    "    sentence = text[start_index: start_index + maxlen]\n",
    "    generated += sentence\n",
    "    print('----- Generating with seed: \"' + sentence + '\"')\n",
    "    sys.stdout.write(generated)\n",
    "    diversity = 0.2\n",
    "    for i in range(400):\n",
    "        x_pred = np.zeros((1, maxlen, len(chars)))\n",
    "        for t, char in enumerate(sentence):\n",
    "            x_pred[0, t, char_indices[char]] = 1.\n",
    "\n",
    "        preds = model.predict(x_pred, verbose=0)[0]\n",
    "        next_index = sample(preds, diversity)\n",
    "        next_char = indices_char[next_index]\n",
    "\n",
    "        generated += next_char\n",
    "        sentence = sentence[1:] + next_char\n",
    "\n",
    "        sys.stdout.write(next_char)\n",
    "        sys.stdout.flush()\n",
    "    print()\n",
    "\n",
    "print_callback = LambdaCallback(on_epoch_end=on_epoch_end)\n",
    "\n",
    "model.fit(x, y,\n",
    "          batch_size=128,\n",
    "          epochs=25,\n",
    "          callbacks=[print_callback])"
   ]
  },
  {
   "cell_type": "code",
   "execution_count": null,
   "metadata": {},
   "outputs": [],
   "source": []
  }
 ],
 "metadata": {
  "colab": {
   "name": "Textgen_keras.ipynb",
   "provenance": []
  },
  "kernelspec": {
   "display_name": "Python 3",
   "language": "python",
   "name": "python3"
  },
  "language_info": {
   "codemirror_mode": {
    "name": "ipython",
    "version": 3
   },
   "file_extension": ".py",
   "mimetype": "text/x-python",
   "name": "python",
   "nbconvert_exporter": "python",
   "pygments_lexer": "ipython3",
   "version": "3.7.3"
  }
 },
 "nbformat": 4,
 "nbformat_minor": 1
}
